{
 "cells": [
  {
   "attachments": {},
   "cell_type": "markdown",
   "metadata": {},
   "source": [
    "**Задача 2**\n",
    "\n",
    "Измерены значения IQ выборки студентов,\n",
    "обучающихся в местных технических вузах:\n",
    "\n",
    "131, 125, 115, 122, 131, 115, 107, 99, 125, 111.\n",
    "\n",
    "Известно, что в генеральной совокупности IQ распределен нормально.\n",
    "Найдите доверительный интервал для математического ожидания с надежностью 0.95."
   ]
  },
  {
   "cell_type": "code",
   "execution_count": 3,
   "metadata": {},
   "outputs": [],
   "source": [
    "import numpy as np\n",
    "import pandas as pd\n",
    "from scipy import stats\n",
    "from matplotlib import pyplot as plt"
   ]
  },
  {
   "attachments": {},
   "cell_type": "markdown",
   "metadata": {},
   "source": [
    "Найдём среднее по выборке и среднее квадратическое отклонение"
   ]
  },
  {
   "cell_type": "code",
   "execution_count": 5,
   "metadata": {},
   "outputs": [
    {
     "name": "stdout",
     "output_type": "stream",
     "text": [
      "10\n",
      "118.1\n",
      "10.54566788359614\n"
     ]
    }
   ],
   "source": [
    "iq = [131, 125, 115, 122, 131, 115, 107, 99, 125, 111]\n",
    "n = len(iq)\n",
    "mean_v = sum(iq)/n\n",
    "sum_v = 0\n",
    "for i in range(0, n):\n",
    "    sum_v = sum_v + (iq[i] - mean_v)**2\n",
    "scale_v = (1/(n - 1) * sum_v)**0.5\n",
    "print(n)\n",
    "print(mean_v)\n",
    "print(scale_v)"
   ]
  },
  {
   "attachments": {},
   "cell_type": "markdown",
   "metadata": {},
   "source": [
    "Дисперсия неизвестна - используем t-распределение и t-статистику Стьюдента"
   ]
  },
  {
   "cell_type": "code",
   "execution_count": 6,
   "metadata": {},
   "outputs": [
    {
     "data": {
      "text/plain": [
       "2.2621571627409915"
      ]
     },
     "execution_count": 6,
     "metadata": {},
     "output_type": "execute_result"
    }
   ],
   "source": [
    "p = 0.95\n",
    "alpha = 1 - p\n",
    "t = stats.t.ppf(1 - alpha / 2, df = n - 1)\n",
    "t"
   ]
  },
  {
   "attachments": {},
   "cell_type": "markdown",
   "metadata": {},
   "source": [
    "$P(\\bar{X}-t_{1-\\frac{\\alpha}{2}}*\\frac{\\sigma}{\\sqrt{n}}\\leq\\alpha\\leq\\bar{X}+t_{1-\\frac{\\alpha}{2}}*\\frac{\\sigma}{\\sqrt{n}})=p$"
   ]
  },
  {
   "cell_type": "code",
   "execution_count": 11,
   "metadata": {},
   "outputs": [
    {
     "name": "stdout",
     "output_type": "stream",
     "text": [
      "ОТВЕТ:\n",
      "Доверительный интервал для математического ожидания с надежностью 0.95: \n",
      "(110.55608365158724, 125.64391634841274)\n"
     ]
    }
   ],
   "source": [
    "print(f'ОТВЕТ:\\nДоверительный интервал для математического ожидания с надежностью 0.95: \\n{(mean_v - t * scale_v / np.sqrt(n), mean_v + t * scale_v / np.sqrt(n))}')"
   ]
  }
 ],
 "metadata": {
  "kernelspec": {
   "display_name": "Python 3",
   "language": "python",
   "name": "python3"
  },
  "language_info": {
   "codemirror_mode": {
    "name": "ipython",
    "version": 3
   },
   "file_extension": ".py",
   "mimetype": "text/x-python",
   "name": "python",
   "nbconvert_exporter": "python",
   "pygments_lexer": "ipython3",
   "version": "3.10.7"
  },
  "orig_nbformat": 4,
  "vscode": {
   "interpreter": {
    "hash": "6847c98a8f86b01c6a19c518cd2f366693b80566b266804d5ca763cbb223f52b"
   }
  }
 },
 "nbformat": 4,
 "nbformat_minor": 2
}
