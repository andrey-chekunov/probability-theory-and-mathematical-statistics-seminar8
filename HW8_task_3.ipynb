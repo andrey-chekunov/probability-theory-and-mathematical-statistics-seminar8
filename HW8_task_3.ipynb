{
 "cells": [
  {
   "attachments": {},
   "cell_type": "markdown",
   "metadata": {},
   "source": [
    "**Задача 3**\n",
    "\n",
    "Известно, что рост футболистов в сборной распределен нормально\n",
    "с дисперсией генеральной совокупности, равной 25 кв.см. \n",
    "\n",
    "Объем выборки равен 27,\n",
    "среднее выборочное составляет 174.2. \n",
    "\n",
    "Найдите доверительный интервал для\n",
    "математического\n",
    "ожидания с надежностью 0.95."
   ]
  },
  {
   "attachments": {},
   "cell_type": "markdown",
   "metadata": {},
   "source": [
    "Распределение нормальное, дисперсия известна. Используем формулу:\n",
    "\n",
    "$T(X)=\\frac{\\bar{X}-\\alpha}{\\frac{\\sigma}{\\sqrt{n}}}$\n",
    "\n",
    "$P(\\bar{X}-t_{1-\\frac{\\alpha}{2}}*\\frac{\\sigma}{\\sqrt{n}}\\leq\\alpha\\leq\\bar{X}+t_{1-\\frac{\\alpha}{2}}*\\frac{\\sigma}{\\sqrt{n}})=p$"
   ]
  },
  {
   "cell_type": "code",
   "execution_count": 4,
   "metadata": {},
   "outputs": [],
   "source": [
    "import numpy as np\n",
    "import pandas as pd\n",
    "from scipy import stats\n",
    "from matplotlib import pyplot as plt"
   ]
  },
  {
   "cell_type": "code",
   "execution_count": 5,
   "metadata": {},
   "outputs": [
    {
     "data": {
      "text/plain": [
       "1.959963984540054"
      ]
     },
     "execution_count": 5,
     "metadata": {},
     "output_type": "execute_result"
    }
   ],
   "source": [
    "n = 27\n",
    "d = 25\n",
    "s = 5\n",
    "mean = 174.2\n",
    "p = 0.95\n",
    "alpha = 1 - p\n",
    "t = stats.norm.ppf(1 - alpha/2)\n",
    "t"
   ]
  },
  {
   "cell_type": "code",
   "execution_count": 6,
   "metadata": {},
   "outputs": [
    {
     "name": "stdout",
     "output_type": "stream",
     "text": [
      "ОТВЕТ:\n",
      "Доверительный интервал для математического ожидания с надежностью 0.95: \n",
      "(172.3140237765397, 176.08597622346028)\n"
     ]
    }
   ],
   "source": [
    "print(f'ОТВЕТ:\\nДоверительный интервал для математического ожидания с надежностью 0.95: \\n{(mean - t * s / np.sqrt(n), mean + t * s / np.sqrt(n))}')"
   ]
  }
 ],
 "metadata": {
  "kernelspec": {
   "display_name": "Python 3",
   "language": "python",
   "name": "python3"
  },
  "language_info": {
   "codemirror_mode": {
    "name": "ipython",
    "version": 3
   },
   "file_extension": ".py",
   "mimetype": "text/x-python",
   "name": "python",
   "nbconvert_exporter": "python",
   "pygments_lexer": "ipython3",
   "version": "3.10.7"
  },
  "orig_nbformat": 4,
  "vscode": {
   "interpreter": {
    "hash": "6847c98a8f86b01c6a19c518cd2f366693b80566b266804d5ca763cbb223f52b"
   }
  }
 },
 "nbformat": 4,
 "nbformat_minor": 2
}
