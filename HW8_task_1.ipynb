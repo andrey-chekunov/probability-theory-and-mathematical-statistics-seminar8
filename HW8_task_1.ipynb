{
 "cells": [
  {
   "attachments": {},
   "cell_type": "markdown",
   "metadata": {},
   "source": [
    "**Задача 1**\n",
    "\n",
    "Даны значения величины заработной платы заемщиков банка ($zp$) и значения их\n",
    "поведенческого кредитного скоринга ($ks$):\n",
    "\n",
    "$zp = [35, 45, 190, 200, 40, 70, 54, 150, 120, 110]$,\n",
    "\n",
    "$ks = [401, 574, 874, 919, 459, 739, 653, 902, 746, 832]$.\n",
    "\n",
    "Найдите ковариацию этих двух величин с помощью элементарных действий, а затем с\n",
    "помощью функции *cov* из *numpy*.\n",
    "Полученные значения должны быть равны.\n",
    "Найдите коэффициент *корреляции Пирсона* с помощью ковариации и\n",
    "среднеквадратичных отклонений двух признаков,\n",
    "а затем с использованием функций из библиотек *numpy* и *pandas*."
   ]
  },
  {
   "attachments": {},
   "cell_type": "markdown",
   "metadata": {},
   "source": [
    "$cov_{XY}=M(XY)-M(X)*M(Y)$"
   ]
  },
  {
   "cell_type": "code",
   "execution_count": 6,
   "metadata": {},
   "outputs": [],
   "source": [
    "import numpy as np\n",
    "import pandas as pd\n",
    "from scipy import stats\n",
    "from matplotlib import pyplot as plt"
   ]
  },
  {
   "cell_type": "code",
   "execution_count": 7,
   "metadata": {},
   "outputs": [],
   "source": [
    "zp = [35, 45, 190, 200, 40, 70, 54, 150, 120, 110]\n",
    "ks = [401, 574, 874, 919, 459, 739, 653, 902, 746, 832]"
   ]
  },
  {
   "cell_type": "code",
   "execution_count": 9,
   "metadata": {},
   "outputs": [
    {
     "data": {
      "text/plain": [
       "9157.839999999997"
      ]
     },
     "execution_count": 9,
     "metadata": {},
     "output_type": "execute_result"
    }
   ],
   "source": [
    "XY = 0\n",
    "X = 0\n",
    "Y = 0\n",
    "n = len(zp)\n",
    "for i in range(0, n):\n",
    "    XY = XY + zp[i] * ks[i]\n",
    "    X = X + zp[i]\n",
    "    Y = Y + ks[i]\n",
    "\n",
    "X_avg = X/n\n",
    "Y_avg = Y/n\n",
    "cov = XY/n - X_avg * Y_avg\n",
    "cov"
   ]
  },
  {
   "cell_type": "code",
   "execution_count": 10,
   "metadata": {},
   "outputs": [
    {
     "data": {
      "text/plain": [
       "array([[ 3494.64,  9157.84],\n",
       "       [ 9157.84, 30468.89]])"
      ]
     },
     "execution_count": 10,
     "metadata": {},
     "output_type": "execute_result"
    }
   ],
   "source": [
    "np.cov(zp, ks, ddof=0)"
   ]
  },
  {
   "cell_type": "code",
   "execution_count": 12,
   "metadata": {},
   "outputs": [
    {
     "data": {
      "text/plain": [
       "10175.377777777776"
      ]
     },
     "execution_count": 12,
     "metadata": {},
     "output_type": "execute_result"
    }
   ],
   "source": [
    "sum1 = 0\n",
    "for i in range(0, n):\n",
    "    sum1 = sum1 + (zp[i] - X_avg) * (ks[i] - Y_avg)\n",
    "\n",
    "cov_n = 1 / (n - 1) * sum1\n",
    "cov_n"
   ]
  },
  {
   "cell_type": "code",
   "execution_count": 13,
   "metadata": {},
   "outputs": [
    {
     "data": {
      "text/plain": [
       "array([[ 3882.93333333, 10175.37777778],\n",
       "       [10175.37777778, 33854.32222222]])"
      ]
     },
     "execution_count": 13,
     "metadata": {},
     "output_type": "execute_result"
    }
   ],
   "source": [
    "np.cov(zp, ks, ddof=1)"
   ]
  },
  {
   "attachments": {},
   "cell_type": "markdown",
   "metadata": {},
   "source": [
    "$\\sigma^2=\\frac{1}{m}\\displaystyle\\sum_{i=1}^m(x_i-\\bar{x})^2$"
   ]
  },
  {
   "cell_type": "code",
   "execution_count": 14,
   "metadata": {},
   "outputs": [
    {
     "name": "stdout",
     "output_type": "stream",
     "text": [
      "3494.6400000000003 59.115480206118605\n",
      "30468.89000000001 174.55340157098058\n"
     ]
    }
   ],
   "source": [
    "sum_X = 0\n",
    "sum_Y = 0\n",
    "for i in range(0, n):\n",
    "    sum_X = sum_X + (zp[i] - X_avg)**2\n",
    "    sum_Y = sum_Y + (ks[i] - Y_avg)**2\n",
    "\n",
    "Dx = 1/(n)*sum_X\n",
    "Dy = 1/(n)*sum_Y\n",
    "scale_X = Dx**0.5\n",
    "scale_Y = Dy**0.5\n",
    "print(Dx, scale_X)\n",
    "print(Dy, scale_Y)"
   ]
  },
  {
   "cell_type": "code",
   "execution_count": null,
   "metadata": {},
   "outputs": [],
   "source": [
    "r = cov/(scale_X * scale_Y)\n",
    "r"
   ]
  },
  {
   "cell_type": "code",
   "execution_count": 15,
   "metadata": {},
   "outputs": [
    {
     "data": {
      "text/plain": [
       "array([[1.        , 0.88749009],\n",
       "       [0.88749009, 1.        ]])"
      ]
     },
     "execution_count": 15,
     "metadata": {},
     "output_type": "execute_result"
    }
   ],
   "source": [
    "np.corrcoef(zp, ks)"
   ]
  }
 ],
 "metadata": {
  "kernelspec": {
   "display_name": "Python 3",
   "language": "python",
   "name": "python3"
  },
  "language_info": {
   "codemirror_mode": {
    "name": "ipython",
    "version": 3
   },
   "file_extension": ".py",
   "mimetype": "text/x-python",
   "name": "python",
   "nbconvert_exporter": "python",
   "pygments_lexer": "ipython3",
   "version": "3.10.7"
  },
  "orig_nbformat": 4,
  "vscode": {
   "interpreter": {
    "hash": "6847c98a8f86b01c6a19c518cd2f366693b80566b266804d5ca763cbb223f52b"
   }
  }
 },
 "nbformat": 4,
 "nbformat_minor": 2
}
